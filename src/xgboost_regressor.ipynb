{
 "cells": [
  {
   "cell_type": "code",
   "execution_count": 2,
   "metadata": {},
   "outputs": [],
   "source": [
    "import pandas as pd\n",
    "import numpy as np\n",
    "import matplotlib.pyplot as plt\n",
    "from sklearn.metrics import mean_squared_error\n",
    "from sklearn.model_selection import train_test_split\n",
    "from sklearn.preprocessing import StandardScaler\n",
    "from xgboost import XGBRegressor"
   ]
  },
  {
   "cell_type": "code",
   "execution_count": 3,
   "metadata": {},
   "outputs": [
    {
     "data": {
      "text/html": [
       "<div>\n",
       "<style scoped>\n",
       "    .dataframe tbody tr th:only-of-type {\n",
       "        vertical-align: middle;\n",
       "    }\n",
       "\n",
       "    .dataframe tbody tr th {\n",
       "        vertical-align: top;\n",
       "    }\n",
       "\n",
       "    .dataframe thead th {\n",
       "        text-align: right;\n",
       "    }\n",
       "</style>\n",
       "<table border=\"1\" class=\"dataframe\">\n",
       "  <thead>\n",
       "    <tr style=\"text-align: right;\">\n",
       "      <th></th>\n",
       "      <th>categoryId</th>\n",
       "      <th>view_count</th>\n",
       "      <th>likes</th>\n",
       "      <th>dislikes</th>\n",
       "      <th>comment_count</th>\n",
       "      <th>channel_age</th>\n",
       "      <th>image_popularity</th>\n",
       "      <th>days_uploaded</th>\n",
       "    </tr>\n",
       "  </thead>\n",
       "  <tbody>\n",
       "    <tr>\n",
       "      <th>0</th>\n",
       "      <td>22</td>\n",
       "      <td>1514614.0</td>\n",
       "      <td>156908.0</td>\n",
       "      <td>696.438236</td>\n",
       "      <td>35313</td>\n",
       "      <td>1958</td>\n",
       "      <td>1</td>\n",
       "      <td>1</td>\n",
       "    </tr>\n",
       "    <tr>\n",
       "      <th>1</th>\n",
       "      <td>20</td>\n",
       "      <td>2381688.0</td>\n",
       "      <td>146739.0</td>\n",
       "      <td>1095.129578</td>\n",
       "      <td>16549</td>\n",
       "      <td>566</td>\n",
       "      <td>1</td>\n",
       "      <td>1</td>\n",
       "    </tr>\n",
       "    <tr>\n",
       "      <th>2</th>\n",
       "      <td>24</td>\n",
       "      <td>2038853.0</td>\n",
       "      <td>353787.0</td>\n",
       "      <td>937.489807</td>\n",
       "      <td>40221</td>\n",
       "      <td>4918</td>\n",
       "      <td>3</td>\n",
       "      <td>1</td>\n",
       "    </tr>\n",
       "    <tr>\n",
       "      <th>3</th>\n",
       "      <td>10</td>\n",
       "      <td>496771.0</td>\n",
       "      <td>23251.0</td>\n",
       "      <td>228.421445</td>\n",
       "      <td>7647</td>\n",
       "      <td>5088</td>\n",
       "      <td>1</td>\n",
       "      <td>1</td>\n",
       "    </tr>\n",
       "    <tr>\n",
       "      <th>4</th>\n",
       "      <td>26</td>\n",
       "      <td>1123889.0</td>\n",
       "      <td>45802.0</td>\n",
       "      <td>516.778052</td>\n",
       "      <td>2196</td>\n",
       "      <td>4004</td>\n",
       "      <td>1</td>\n",
       "      <td>1</td>\n",
       "    </tr>\n",
       "  </tbody>\n",
       "</table>\n",
       "</div>"
      ],
      "text/plain": [
       "   categoryId  view_count     likes     dislikes  comment_count  channel_age  \\\n",
       "0          22   1514614.0  156908.0   696.438236          35313         1958   \n",
       "1          20   2381688.0  146739.0  1095.129578          16549          566   \n",
       "2          24   2038853.0  353787.0   937.489807          40221         4918   \n",
       "3          10    496771.0   23251.0   228.421445           7647         5088   \n",
       "4          26   1123889.0   45802.0   516.778052           2196         4004   \n",
       "\n",
       "   image_popularity  days_uploaded  \n",
       "0                 1              1  \n",
       "1                 1              1  \n",
       "2                 3              1  \n",
       "3                 1              1  \n",
       "4                 1              1  "
      ]
     },
     "execution_count": 3,
     "metadata": {},
     "output_type": "execute_result"
    }
   ],
   "source": [
    "df = pd.read_csv(\"../data/preprocessed_data.csv\")\n",
    "df.head()"
   ]
  },
  {
   "cell_type": "code",
   "execution_count": 4,
   "metadata": {},
   "outputs": [
    {
     "data": {
      "text/html": [
       "<div>\n",
       "<style scoped>\n",
       "    .dataframe tbody tr th:only-of-type {\n",
       "        vertical-align: middle;\n",
       "    }\n",
       "\n",
       "    .dataframe tbody tr th {\n",
       "        vertical-align: top;\n",
       "    }\n",
       "\n",
       "    .dataframe thead th {\n",
       "        text-align: right;\n",
       "    }\n",
       "</style>\n",
       "<table border=\"1\" class=\"dataframe\">\n",
       "  <thead>\n",
       "    <tr style=\"text-align: right;\">\n",
       "      <th></th>\n",
       "      <th>categoryId</th>\n",
       "      <th>view_count</th>\n",
       "      <th>likes</th>\n",
       "      <th>dislikes</th>\n",
       "      <th>comment_count</th>\n",
       "      <th>channel_age</th>\n",
       "      <th>image_popularity</th>\n",
       "      <th>days_uploaded</th>\n",
       "    </tr>\n",
       "  </thead>\n",
       "  <tbody>\n",
       "    <tr>\n",
       "      <th>0</th>\n",
       "      <td>22</td>\n",
       "      <td>-0.136989</td>\n",
       "      <td>0.056358</td>\n",
       "      <td>-0.125183</td>\n",
       "      <td>0.330958</td>\n",
       "      <td>-0.688309</td>\n",
       "      <td>1</td>\n",
       "      <td>-1.251756</td>\n",
       "    </tr>\n",
       "    <tr>\n",
       "      <th>1</th>\n",
       "      <td>20</td>\n",
       "      <td>-0.033044</td>\n",
       "      <td>0.033416</td>\n",
       "      <td>-0.035790</td>\n",
       "      <td>0.081891</td>\n",
       "      <td>-1.486624</td>\n",
       "      <td>1</td>\n",
       "      <td>-1.251756</td>\n",
       "    </tr>\n",
       "    <tr>\n",
       "      <th>2</th>\n",
       "      <td>24</td>\n",
       "      <td>-0.074143</td>\n",
       "      <td>0.500524</td>\n",
       "      <td>-0.071136</td>\n",
       "      <td>0.396105</td>\n",
       "      <td>1.009258</td>\n",
       "      <td>3</td>\n",
       "      <td>-1.251756</td>\n",
       "    </tr>\n",
       "    <tr>\n",
       "      <th>3</th>\n",
       "      <td>10</td>\n",
       "      <td>-0.259007</td>\n",
       "      <td>-0.245177</td>\n",
       "      <td>-0.230119</td>\n",
       "      <td>-0.036271</td>\n",
       "      <td>1.106753</td>\n",
       "      <td>1</td>\n",
       "      <td>-1.251756</td>\n",
       "    </tr>\n",
       "    <tr>\n",
       "      <th>4</th>\n",
       "      <td>26</td>\n",
       "      <td>-0.183829</td>\n",
       "      <td>-0.194302</td>\n",
       "      <td>-0.165466</td>\n",
       "      <td>-0.108625</td>\n",
       "      <td>0.485077</td>\n",
       "      <td>1</td>\n",
       "      <td>-1.251756</td>\n",
       "    </tr>\n",
       "  </tbody>\n",
       "</table>\n",
       "</div>"
      ],
      "text/plain": [
       "   categoryId  view_count     likes  dislikes  comment_count  channel_age  \\\n",
       "0          22   -0.136989  0.056358 -0.125183       0.330958    -0.688309   \n",
       "1          20   -0.033044  0.033416 -0.035790       0.081891    -1.486624   \n",
       "2          24   -0.074143  0.500524 -0.071136       0.396105     1.009258   \n",
       "3          10   -0.259007 -0.245177 -0.230119      -0.036271     1.106753   \n",
       "4          26   -0.183829 -0.194302 -0.165466      -0.108625     0.485077   \n",
       "\n",
       "   image_popularity  days_uploaded  \n",
       "0                 1      -1.251756  \n",
       "1                 1      -1.251756  \n",
       "2                 3      -1.251756  \n",
       "3                 1      -1.251756  \n",
       "4                 1      -1.251756  "
      ]
     },
     "execution_count": 4,
     "metadata": {},
     "output_type": "execute_result"
    }
   ],
   "source": [
    "scaler = StandardScaler()\n",
    "\n",
    "columns_to_standardize = ['view_count','likes','dislikes','comment_count','channel_age','days_uploaded']\n",
    "\n",
    "df[columns_to_standardize] = scaler.fit_transform(df[columns_to_standardize])\n",
    "\n",
    "df.head()"
   ]
  },
  {
   "cell_type": "code",
   "execution_count": 5,
   "metadata": {},
   "outputs": [],
   "source": [
    "features = ['categoryId', 'view_count', 'dislikes', 'comment_count', 'image_popularity', 'days_uploaded']\n",
    "target = 'likes'"
   ]
  },
  {
   "cell_type": "code",
   "execution_count": 6,
   "metadata": {},
   "outputs": [
    {
     "data": {
      "text/html": [
       "<div>\n",
       "<style scoped>\n",
       "    .dataframe tbody tr th:only-of-type {\n",
       "        vertical-align: middle;\n",
       "    }\n",
       "\n",
       "    .dataframe tbody tr th {\n",
       "        vertical-align: top;\n",
       "    }\n",
       "\n",
       "    .dataframe thead th {\n",
       "        text-align: right;\n",
       "    }\n",
       "</style>\n",
       "<table border=\"1\" class=\"dataframe\">\n",
       "  <thead>\n",
       "    <tr style=\"text-align: right;\">\n",
       "      <th></th>\n",
       "      <th>categoryId</th>\n",
       "      <th>view_count</th>\n",
       "      <th>dislikes</th>\n",
       "      <th>comment_count</th>\n",
       "      <th>image_popularity</th>\n",
       "      <th>days_uploaded</th>\n",
       "    </tr>\n",
       "  </thead>\n",
       "  <tbody>\n",
       "    <tr>\n",
       "      <th>0</th>\n",
       "      <td>22</td>\n",
       "      <td>-0.136989</td>\n",
       "      <td>-0.125183</td>\n",
       "      <td>0.330958</td>\n",
       "      <td>1</td>\n",
       "      <td>-1.251756</td>\n",
       "    </tr>\n",
       "    <tr>\n",
       "      <th>1</th>\n",
       "      <td>20</td>\n",
       "      <td>-0.033044</td>\n",
       "      <td>-0.035790</td>\n",
       "      <td>0.081891</td>\n",
       "      <td>1</td>\n",
       "      <td>-1.251756</td>\n",
       "    </tr>\n",
       "    <tr>\n",
       "      <th>2</th>\n",
       "      <td>24</td>\n",
       "      <td>-0.074143</td>\n",
       "      <td>-0.071136</td>\n",
       "      <td>0.396105</td>\n",
       "      <td>3</td>\n",
       "      <td>-1.251756</td>\n",
       "    </tr>\n",
       "    <tr>\n",
       "      <th>3</th>\n",
       "      <td>10</td>\n",
       "      <td>-0.259007</td>\n",
       "      <td>-0.230119</td>\n",
       "      <td>-0.036271</td>\n",
       "      <td>1</td>\n",
       "      <td>-1.251756</td>\n",
       "    </tr>\n",
       "    <tr>\n",
       "      <th>4</th>\n",
       "      <td>26</td>\n",
       "      <td>-0.183829</td>\n",
       "      <td>-0.165466</td>\n",
       "      <td>-0.108625</td>\n",
       "      <td>1</td>\n",
       "      <td>-1.251756</td>\n",
       "    </tr>\n",
       "    <tr>\n",
       "      <th>...</th>\n",
       "      <td>...</td>\n",
       "      <td>...</td>\n",
       "      <td>...</td>\n",
       "      <td>...</td>\n",
       "      <td>...</td>\n",
       "      <td>...</td>\n",
       "    </tr>\n",
       "    <tr>\n",
       "      <th>245898</th>\n",
       "      <td>23</td>\n",
       "      <td>-0.251017</td>\n",
       "      <td>-0.223248</td>\n",
       "      <td>-0.113590</td>\n",
       "      <td>1</td>\n",
       "      <td>1.193371</td>\n",
       "    </tr>\n",
       "    <tr>\n",
       "      <th>245899</th>\n",
       "      <td>20</td>\n",
       "      <td>-0.025983</td>\n",
       "      <td>-0.029718</td>\n",
       "      <td>-0.060416</td>\n",
       "      <td>1</td>\n",
       "      <td>1.193371</td>\n",
       "    </tr>\n",
       "    <tr>\n",
       "      <th>245900</th>\n",
       "      <td>17</td>\n",
       "      <td>-0.261697</td>\n",
       "      <td>-0.260780</td>\n",
       "      <td>-0.133221</td>\n",
       "      <td>2</td>\n",
       "      <td>0.785850</td>\n",
       "    </tr>\n",
       "    <tr>\n",
       "      <th>245901</th>\n",
       "      <td>24</td>\n",
       "      <td>-0.222136</td>\n",
       "      <td>-0.198410</td>\n",
       "      <td>-0.111599</td>\n",
       "      <td>1</td>\n",
       "      <td>0.785850</td>\n",
       "    </tr>\n",
       "    <tr>\n",
       "      <th>245902</th>\n",
       "      <td>24</td>\n",
       "      <td>-0.245501</td>\n",
       "      <td>-0.218504</td>\n",
       "      <td>-0.113192</td>\n",
       "      <td>0</td>\n",
       "      <td>1.193371</td>\n",
       "    </tr>\n",
       "  </tbody>\n",
       "</table>\n",
       "<p>245903 rows × 6 columns</p>\n",
       "</div>"
      ],
      "text/plain": [
       "        categoryId  view_count  dislikes  comment_count  image_popularity  \\\n",
       "0               22   -0.136989 -0.125183       0.330958                 1   \n",
       "1               20   -0.033044 -0.035790       0.081891                 1   \n",
       "2               24   -0.074143 -0.071136       0.396105                 3   \n",
       "3               10   -0.259007 -0.230119      -0.036271                 1   \n",
       "4               26   -0.183829 -0.165466      -0.108625                 1   \n",
       "...            ...         ...       ...            ...               ...   \n",
       "245898          23   -0.251017 -0.223248      -0.113590                 1   \n",
       "245899          20   -0.025983 -0.029718      -0.060416                 1   \n",
       "245900          17   -0.261697 -0.260780      -0.133221                 2   \n",
       "245901          24   -0.222136 -0.198410      -0.111599                 1   \n",
       "245902          24   -0.245501 -0.218504      -0.113192                 0   \n",
       "\n",
       "        days_uploaded  \n",
       "0           -1.251756  \n",
       "1           -1.251756  \n",
       "2           -1.251756  \n",
       "3           -1.251756  \n",
       "4           -1.251756  \n",
       "...               ...  \n",
       "245898       1.193371  \n",
       "245899       1.193371  \n",
       "245900       0.785850  \n",
       "245901       0.785850  \n",
       "245902       1.193371  \n",
       "\n",
       "[245903 rows x 6 columns]"
      ]
     },
     "execution_count": 6,
     "metadata": {},
     "output_type": "execute_result"
    }
   ],
   "source": [
    "X = df[features]\n",
    "X"
   ]
  },
  {
   "cell_type": "code",
   "execution_count": 7,
   "metadata": {},
   "outputs": [
    {
     "data": {
      "text/plain": [
       "0         0.056358\n",
       "1         0.033416\n",
       "2         0.500524\n",
       "3        -0.245177\n",
       "4        -0.194302\n",
       "            ...   \n",
       "245898   -0.142153\n",
       "245899   -0.040171\n",
       "245900   -0.284705\n",
       "245901   -0.230989\n",
       "245902   -0.176955\n",
       "Name: likes, Length: 245903, dtype: float64"
      ]
     },
     "execution_count": 7,
     "metadata": {},
     "output_type": "execute_result"
    }
   ],
   "source": [
    "y = df[target]\n",
    "y"
   ]
  },
  {
   "cell_type": "code",
   "execution_count": 8,
   "metadata": {},
   "outputs": [
    {
     "data": {
      "text/plain": [
       "((196722, 6), (49181, 6), (196722,), (49181,))"
      ]
     },
     "execution_count": 8,
     "metadata": {},
     "output_type": "execute_result"
    }
   ],
   "source": [
    "X_train, X_test, y_train, y_test = train_test_split(X,y, test_size = 0.2, shuffle=False, random_state=42)\n",
    "X_train.shape, X_test.shape, y_train.shape, y_test.shape"
   ]
  },
  {
   "cell_type": "code",
   "execution_count": 9,
   "metadata": {},
   "outputs": [
    {
     "data": {
      "text/html": [
       "<style>#sk-container-id-1 {color: black;background-color: white;}#sk-container-id-1 pre{padding: 0;}#sk-container-id-1 div.sk-toggleable {background-color: white;}#sk-container-id-1 label.sk-toggleable__label {cursor: pointer;display: block;width: 100%;margin-bottom: 0;padding: 0.3em;box-sizing: border-box;text-align: center;}#sk-container-id-1 label.sk-toggleable__label-arrow:before {content: \"▸\";float: left;margin-right: 0.25em;color: #696969;}#sk-container-id-1 label.sk-toggleable__label-arrow:hover:before {color: black;}#sk-container-id-1 div.sk-estimator:hover label.sk-toggleable__label-arrow:before {color: black;}#sk-container-id-1 div.sk-toggleable__content {max-height: 0;max-width: 0;overflow: hidden;text-align: left;background-color: #f0f8ff;}#sk-container-id-1 div.sk-toggleable__content pre {margin: 0.2em;color: black;border-radius: 0.25em;background-color: #f0f8ff;}#sk-container-id-1 input.sk-toggleable__control:checked~div.sk-toggleable__content {max-height: 200px;max-width: 100%;overflow: auto;}#sk-container-id-1 input.sk-toggleable__control:checked~label.sk-toggleable__label-arrow:before {content: \"▾\";}#sk-container-id-1 div.sk-estimator input.sk-toggleable__control:checked~label.sk-toggleable__label {background-color: #d4ebff;}#sk-container-id-1 div.sk-label input.sk-toggleable__control:checked~label.sk-toggleable__label {background-color: #d4ebff;}#sk-container-id-1 input.sk-hidden--visually {border: 0;clip: rect(1px 1px 1px 1px);clip: rect(1px, 1px, 1px, 1px);height: 1px;margin: -1px;overflow: hidden;padding: 0;position: absolute;width: 1px;}#sk-container-id-1 div.sk-estimator {font-family: monospace;background-color: #f0f8ff;border: 1px dotted black;border-radius: 0.25em;box-sizing: border-box;margin-bottom: 0.5em;}#sk-container-id-1 div.sk-estimator:hover {background-color: #d4ebff;}#sk-container-id-1 div.sk-parallel-item::after {content: \"\";width: 100%;border-bottom: 1px solid gray;flex-grow: 1;}#sk-container-id-1 div.sk-label:hover label.sk-toggleable__label {background-color: #d4ebff;}#sk-container-id-1 div.sk-serial::before {content: \"\";position: absolute;border-left: 1px solid gray;box-sizing: border-box;top: 0;bottom: 0;left: 50%;z-index: 0;}#sk-container-id-1 div.sk-serial {display: flex;flex-direction: column;align-items: center;background-color: white;padding-right: 0.2em;padding-left: 0.2em;position: relative;}#sk-container-id-1 div.sk-item {position: relative;z-index: 1;}#sk-container-id-1 div.sk-parallel {display: flex;align-items: stretch;justify-content: center;background-color: white;position: relative;}#sk-container-id-1 div.sk-item::before, #sk-container-id-1 div.sk-parallel-item::before {content: \"\";position: absolute;border-left: 1px solid gray;box-sizing: border-box;top: 0;bottom: 0;left: 50%;z-index: -1;}#sk-container-id-1 div.sk-parallel-item {display: flex;flex-direction: column;z-index: 1;position: relative;background-color: white;}#sk-container-id-1 div.sk-parallel-item:first-child::after {align-self: flex-end;width: 50%;}#sk-container-id-1 div.sk-parallel-item:last-child::after {align-self: flex-start;width: 50%;}#sk-container-id-1 div.sk-parallel-item:only-child::after {width: 0;}#sk-container-id-1 div.sk-dashed-wrapped {border: 1px dashed gray;margin: 0 0.4em 0.5em 0.4em;box-sizing: border-box;padding-bottom: 0.4em;background-color: white;}#sk-container-id-1 div.sk-label label {font-family: monospace;font-weight: bold;display: inline-block;line-height: 1.2em;}#sk-container-id-1 div.sk-label-container {text-align: center;}#sk-container-id-1 div.sk-container {/* jupyter's `normalize.less` sets `[hidden] { display: none; }` but bootstrap.min.css set `[hidden] { display: none !important; }` so we also need the `!important` here to be able to override the default hidden behavior on the sphinx rendered scikit-learn.org. See: https://github.com/scikit-learn/scikit-learn/issues/21755 */display: inline-block !important;position: relative;}#sk-container-id-1 div.sk-text-repr-fallback {display: none;}</style><div id=\"sk-container-id-1\" class=\"sk-top-container\"><div class=\"sk-text-repr-fallback\"><pre>XGBRegressor(base_score=None, booster=None, callbacks=None,\n",
       "             colsample_bylevel=None, colsample_bynode=None,\n",
       "             colsample_bytree=0.5, device=None, early_stopping_rounds=None,\n",
       "             enable_categorical=False, eval_metric=None, feature_types=None,\n",
       "             gamma=None, grow_policy=None, importance_type=None,\n",
       "             interaction_constraints=None, learning_rate=0.01, max_bin=None,\n",
       "             max_cat_threshold=None, max_cat_to_onehot=None,\n",
       "             max_delta_step=None, max_depth=6, max_leaves=None,\n",
       "             min_child_weight=None, missing=nan, monotone_constraints=None,\n",
       "             multi_strategy=None, n_estimators=1000, n_jobs=None,\n",
       "             num_parallel_tree=None, random_state=42, ...)</pre><b>In a Jupyter environment, please rerun this cell to show the HTML representation or trust the notebook. <br />On GitHub, the HTML representation is unable to render, please try loading this page with nbviewer.org.</b></div><div class=\"sk-container\" hidden><div class=\"sk-item\"><div class=\"sk-estimator sk-toggleable\"><input class=\"sk-toggleable__control sk-hidden--visually\" id=\"sk-estimator-id-1\" type=\"checkbox\" checked><label for=\"sk-estimator-id-1\" class=\"sk-toggleable__label sk-toggleable__label-arrow\">XGBRegressor</label><div class=\"sk-toggleable__content\"><pre>XGBRegressor(base_score=None, booster=None, callbacks=None,\n",
       "             colsample_bylevel=None, colsample_bynode=None,\n",
       "             colsample_bytree=0.5, device=None, early_stopping_rounds=None,\n",
       "             enable_categorical=False, eval_metric=None, feature_types=None,\n",
       "             gamma=None, grow_policy=None, importance_type=None,\n",
       "             interaction_constraints=None, learning_rate=0.01, max_bin=None,\n",
       "             max_cat_threshold=None, max_cat_to_onehot=None,\n",
       "             max_delta_step=None, max_depth=6, max_leaves=None,\n",
       "             min_child_weight=None, missing=nan, monotone_constraints=None,\n",
       "             multi_strategy=None, n_estimators=1000, n_jobs=None,\n",
       "             num_parallel_tree=None, random_state=42, ...)</pre></div></div></div></div></div>"
      ],
      "text/plain": [
       "XGBRegressor(base_score=None, booster=None, callbacks=None,\n",
       "             colsample_bylevel=None, colsample_bynode=None,\n",
       "             colsample_bytree=0.5, device=None, early_stopping_rounds=None,\n",
       "             enable_categorical=False, eval_metric=None, feature_types=None,\n",
       "             gamma=None, grow_policy=None, importance_type=None,\n",
       "             interaction_constraints=None, learning_rate=0.01, max_bin=None,\n",
       "             max_cat_threshold=None, max_cat_to_onehot=None,\n",
       "             max_delta_step=None, max_depth=6, max_leaves=None,\n",
       "             min_child_weight=None, missing=nan, monotone_constraints=None,\n",
       "             multi_strategy=None, n_estimators=1000, n_jobs=None,\n",
       "             num_parallel_tree=None, random_state=42, ...)"
      ]
     },
     "execution_count": 9,
     "metadata": {},
     "output_type": "execute_result"
    }
   ],
   "source": [
    "model = XGBRegressor(n_estimators = 1000, max_depth = 6, learning_rate = 0.01, colsample_bytree = 0.5, random_state=42)\n",
    "model.fit(X_train, y_train)"
   ]
  },
  {
   "cell_type": "code",
   "execution_count": 10,
   "metadata": {},
   "outputs": [
    {
     "data": {
      "text/plain": [
       "(array([ 0.11995384,  0.09670163,  0.48608175, ..., -0.15291171,\n",
       "        -0.21367963, -0.14696951], dtype=float32),\n",
       " array([-0.2568323 , -0.22285661, -0.23328222, ..., -0.30200377,\n",
       "        -0.2330022 , -0.22279209], dtype=float32))"
      ]
     },
     "execution_count": 10,
     "metadata": {},
     "output_type": "execute_result"
    }
   ],
   "source": [
    "pred_train = model.predict(X_train)\n",
    "pred_test = model.predict(X_test)\n",
    "pred_train, pred_test"
   ]
  },
  {
   "cell_type": "code",
   "execution_count": 11,
   "metadata": {},
   "outputs": [
    {
     "name": "stdout",
     "output_type": "stream",
     "text": [
      "Train RMSE = 0.26426230668872075\n",
      "Test RMSE = 0.4932800626763407\n"
     ]
    }
   ],
   "source": [
    "print(f\"Train RMSE = {np.sqrt(mean_squared_error(y_train, pred_train))}\")\n",
    "print(f\"Test RMSE = {np.sqrt(mean_squared_error(y_test, pred_test))}\")"
   ]
  },
  {
   "cell_type": "code",
   "execution_count": 15,
   "metadata": {},
   "outputs": [
    {
     "data": {
      "image/png": "[encoded data removed]",
      "text/plain": [
       "<Figure size 1000x1000 with 1 Axes>"
      ]
     },
     "metadata": {},
     "output_type": "display_data"
    }
   ],
   "source": [
    "plt.figure(figsize=(10,10))\n",
    "plt.scatter(y_test, pred_test, c='green')\n",
    "\n",
    "p1 = max(max(pred_test), max(y_test))\n",
    "p2 = min(min(pred_test), min(y_test))\n",
    "plt.plot([p1, p2], [p1, p2], 'b-')\n",
    "plt.xlabel('True Values', fontsize=15)\n",
    "plt.ylabel('Predictions', fontsize=15)\n",
    "plt.axis('equal')\n",
    "plt.show()"
   ]
  }
 ],
 "metadata": {
  "kernelspec": {
   "display_name": "Python 3",
   "language": "python",
   "name": "python3"
  },
  "language_info": {
   "codemirror_mode": {
    "name": "ipython",
    "version": 3
   },
   "file_extension": ".py",
   "mimetype": "text/x-python",
   "name": "python",
   "nbconvert_exporter": "python",
   "pygments_lexer": "ipython3",
   "version": "3.10.5"
  }
 },
 "nbformat": 4,
 "nbformat_minor": 2
}
